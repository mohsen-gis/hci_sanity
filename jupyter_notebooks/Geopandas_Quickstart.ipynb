{
 "cells": [
  {
   "cell_type": "markdown",
   "id": "c5af3092",
   "metadata": {},
   "source": [
    "## Geopandas Quickstart"
   ]
  },
  {
   "cell_type": "markdown",
   "id": "33c88db0",
   "metadata": {},
   "source": [
    "This is a notebook to test the basic functionality in the environment for the Python Package <b>geopandas</b>. For more quickstart materials, see [here](https://geopandas.org/en/stable/)."
   ]
  },
  {
   "cell_type": "code",
   "execution_count": 1,
   "id": "1090d8a0",
   "metadata": {},
   "outputs": [],
   "source": [
    "import geopandas\n"
   ]
  },
  {
   "cell_type": "code",
   "execution_count": 2,
   "id": "9b8735aa",
   "metadata": {},
   "outputs": [],
   "source": [
    "!wget -O ../Data/ne_110m_admin_0_countries.zip https://www.naturalearthdata.com/http//www.naturalearthdata.com/download/110m/cultural/ne_110m_admin_0_countries.zip \n",
    "!unzip -n ../Data/ne_110m_admin_0_countries.zip -d ../Data\n"
   ]
  },
  {
   "cell_type": "code",
   "execution_count": 3,
   "id": "68f8f4b1",
   "metadata": {},
   "outputs": [],
   "source": [
    "countries_fromzip = geopandas.read_file(\"../Data/ne_110m_admin_0_countries.zip\")\n",
    "countries_fromshp = geopandas.read_file(\"../Data/ne_110m_admin_0_countries.shp\")\n",
    "fromgeojson = geopandas.read_file(\"../Data/samplepoints.json\")"
   ]
  },
  {
   "cell_type": "code",
   "execution_count": 4,
   "id": "39c55e49",
   "metadata": {},
   "outputs": [],
   "source": [
    "url = 'https://www2.census.gov/geo/tiger/TIGER2017/PLACE/tl_2017_27_place.zip'\n",
    "countries_fromurl = geopandas.read_file(url)\n"
   ]
  },
  {
   "cell_type": "code",
   "execution_count": 5,
   "id": "eeef02d6",
   "metadata": {},
   "outputs": [],
   "source": [
    "gdf = countries_fromshp\n",
    "gdf.dtypes\n",
    "gdf.corr()\n",
    "gdf[2:5]\n",
    "gdf.iloc[2:5, :]\n",
    "gdf.loc[2:5, 'LABELRANK']\n"
   ]
  },
  {
   "cell_type": "code",
   "execution_count": 6,
   "id": "feca6529",
   "metadata": {},
   "outputs": [],
   "source": [
    "gdf['POP_EST'].plot.hist(bins = 50)\n",
    "\n",
    "my_centroids = gdf.centroid\n",
    "\n",
    "my_centroids[2:5].plot(figsize = (15, 15), marker = '+', markersize = 80, color = 'red')\n",
    "\n"
   ]
  }
 ],
 "metadata": {
  "kernelspec": {
   "display_name": "Python 3",
   "language": "python",
   "name": "python3"
  },
  "language_info": {
   "codemirror_mode": {
    "name": "ipython",
    "version": 3
   },
   "file_extension": ".py",
   "mimetype": "text/x-python",
   "name": "python",
   "nbconvert_exporter": "python",
   "pygments_lexer": "ipython3",
   "version": "3.8.1"
  }
 },
 "nbformat": 4,
 "nbformat_minor": 5
}
