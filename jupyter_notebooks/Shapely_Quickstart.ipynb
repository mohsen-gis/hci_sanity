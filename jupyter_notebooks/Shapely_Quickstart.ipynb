{
 "cells": [
  {
   "cell_type": "markdown",
   "id": "bcc59eb5",
   "metadata": {},
   "source": [
    "## Shapely Quickstart"
   ]
  },
  {
   "cell_type": "markdown",
   "id": "e6b89b7e",
   "metadata": {},
   "source": [
    "This is a notebook to test the basic functionality in the environment for the Python Package <b>shapely</b>. For more quickstart materials, see [here](https://github.com/Toblerity/Shapely) and [here](https://shapely.readthedocs.io/en/stable/manual.html)."
   ]
  },
  {
   "cell_type": "code",
   "execution_count": 1,
   "id": "fd8d0f2c",
   "metadata": {},
   "outputs": [],
   "source": [
    "from shapely.geometry import Point, Polygon, LineString\n",
    "from shapely.wkt import dumps, loads\n",
    "import json\n",
    "from shapely.geometry import mapping, shape"
   ]
  },
  {
   "cell_type": "code",
   "execution_count": 2,
   "id": "5034c869",
   "metadata": {},
   "outputs": [],
   "source": [
    "patch = Point(0.0, 0.0).buffer(10.0)\n",
    "patch"
   ]
  },
  {
   "cell_type": "code",
   "execution_count": 3,
   "id": "70b20929",
   "metadata": {},
   "outputs": [],
   "source": [
    "dumps(loads('POINT (0 0)'))"
   ]
  },
  {
   "cell_type": "code",
   "execution_count": 4,
   "id": "85ff2575",
   "metadata": {},
   "outputs": [],
   "source": [
    "s = shape(json.loads('{\"type\": \"Point\", \"coordinates\": [0.0, 0.0]}'))\n",
    "s"
   ]
  },
  {
   "cell_type": "code",
   "execution_count": 5,
   "id": "753d3f0f",
   "metadata": {},
   "outputs": [],
   "source": [
    "point = Point(1, 1)\n",
    "\n",
    "line = LineString([(2, 0), (2, 4), (3, 4)])\n",
    "\n",
    "point.hausdorff_distance(line)\n",
    "point.distance(Point(3, 4))\n"
   ]
  },
  {
   "cell_type": "code",
   "execution_count": 6,
   "id": "b13aa944",
   "metadata": {},
   "outputs": [],
   "source": [
    "donut = Point(0, 0).buffer(2.0).difference(Point(0, 0).buffer(1.0))\n",
    "\n",
    "donut.centroid.wkt\n",
    "donut.representative_point().wkt"
   ]
  }
 ],
 "metadata": {
  "kernelspec": {
   "display_name": "Python 3",
   "language": "python",
   "name": "python3"
  },
  "language_info": {
   "codemirror_mode": {
    "name": "ipython",
    "version": 3
   },
   "file_extension": ".py",
   "mimetype": "text/x-python",
   "name": "python",
   "nbconvert_exporter": "python",
   "pygments_lexer": "ipython3",
   "version": "3.8.1"
  }
 },
 "nbformat": 4,
 "nbformat_minor": 5
}
