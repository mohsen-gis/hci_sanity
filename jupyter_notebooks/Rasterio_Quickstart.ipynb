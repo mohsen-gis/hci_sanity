{
 "cells": [
  {
   "cell_type": "markdown",
   "id": "3fab373c",
   "metadata": {},
   "source": [
    "## Rasterio Quickstart"
   ]
  },
  {
   "cell_type": "markdown",
   "id": "15dd6644",
   "metadata": {},
   "source": [
    "This is a notebook to test the basic functionality in the environment for the Python Package <b>rasterio</b>. For more quickstart materials, see [here](https://rasterio.readthedocs.io/en/latest/)."
   ]
  },
  {
   "cell_type": "code",
   "execution_count": 1,
   "id": "caca09ab",
   "metadata": {},
   "outputs": [],
   "source": [
    "import matplotlib.pyplot as plt\n",
    "import rasterio\n",
    "from rasterio import plot\n",
    "from rasterio.plot import show_hist\n",
    "import os.path"
   ]
  },
  {
   "cell_type": "code",
   "execution_count": 2,
   "id": "55a5ae19",
   "metadata": {},
   "outputs": [],
   "source": [
    "rast = rasterio.open(\"../Data/sma2_river.tif\")"
   ]
  },
  {
   "cell_type": "code",
   "execution_count": 3,
   "id": "7543439f",
   "metadata": {},
   "outputs": [],
   "source": [
    "# This checks if the file is there. Returns a boolean value. \n",
    "# Change fname if you named it something else.\n",
    "os.path.isfile(\"../Data/sma2_river.tif\") \n"
   ]
  },
  {
   "cell_type": "code",
   "execution_count": 4,
   "id": "63136da9",
   "metadata": {},
   "outputs": [],
   "source": [
    "plot.show(rast)"
   ]
  },
  {
   "cell_type": "code",
   "execution_count": 5,
   "id": "d3e3fbcd",
   "metadata": {},
   "outputs": [],
   "source": [
    "rast.meta"
   ]
  },
  {
   "cell_type": "code",
   "execution_count": 6,
   "id": "c3f6192e",
   "metadata": {},
   "outputs": [],
   "source": [
    "rast.height"
   ]
  },
  {
   "cell_type": "code",
   "execution_count": 7,
   "id": "718d470c",
   "metadata": {},
   "outputs": [],
   "source": [
    "rast.width"
   ]
  },
  {
   "cell_type": "code",
   "execution_count": 8,
   "id": "4968f4bb",
   "metadata": {},
   "outputs": [],
   "source": [
    "rast.bounds"
   ]
  },
  {
   "cell_type": "code",
   "execution_count": 9,
   "id": "670118bd",
   "metadata": {},
   "outputs": [],
   "source": [
    "rast.crs"
   ]
  },
  {
   "cell_type": "code",
   "execution_count": 10,
   "id": "2751d152",
   "metadata": {},
   "outputs": [],
   "source": [
    "show_hist(rast)"
   ]
  },
  {
   "cell_type": "code",
   "execution_count": null,
   "id": "ceddfb11",
   "metadata": {},
   "outputs": [],
   "source": []
  }
 ],
 "metadata": {
  "kernelspec": {
   "display_name": "Python 3",
   "language": "python",
   "name": "python3"
  },
  "language_info": {
   "codemirror_mode": {
    "name": "ipython",
    "version": 3
   },
   "file_extension": ".py",
   "mimetype": "text/x-python",
   "name": "python",
   "nbconvert_exporter": "python",
   "pygments_lexer": "ipython3",
   "version": "3.8.1"
  }
 },
 "nbformat": 4,
 "nbformat_minor": 5
}
