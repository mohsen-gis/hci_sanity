{
 "cells": [
  {
   "cell_type": "markdown",
   "metadata": {},
   "source": [
    "## mplleaflet Quickstart"
   ]
  },
  {
   "cell_type": "markdown",
   "metadata": {},
   "source": [
    "This is a notebook to test the basic functionality in the environment for the Python Package <b>mplleaflet</b>. For more quickstart materials, see [here](https://github.com/jwass/mplleaflet)."
   ]
  },
  {
   "cell_type": "markdown",
   "metadata": {},
   "source": [
    "Error: `AttributeError: 'XAxis' object has no attribute '_gridOnMajor'`\n",
    "* Solution1: `pip install matplotlib==3.3.2`\n",
    "* Solution2: https://github.com/jwass/mplleaflet/issues/80 "
   ]
  },
  {
   "cell_type": "markdown",
   "metadata": {},
   "source": [
    "import json\n",
    "import os\n",
    "import matplotlib.pyplot as plt\n",
    "import numpy as np\n",
    "import mplleaflet\n",
    "# Load up the geojson data\n",
    "filename = '/Users/mohsen/Desktop/hci/Unitest_Scripts/Data/samplepoints.json'\n",
    "with open(filename) as f:\n",
    "    gj = json.load(f)\n",
    "\n",
    "# Grab the coordinates (longitude, latitude) from the features, which we\n",
    "# know are Points\n",
    "xy = np.array([feat['geometry']['coordinates'] for feat in gj['features']])\n",
    "\n",
    "# plt.plot(xy[:,0], xy[:,1], 'r.')\n",
    "# plt.plot(xy[:,0], xy[:,1], 'b')\n",
    "fig, ax = plt.subplots()\n",
    "longitude, latitude = xy[:,0], xy[:,1]\n",
    "ax.plot(longitude, latitude, 'b')\n",
    "ax.plot(longitude, latitude, 'rs')\n"
   ]
  },
  {
   "cell_type": "markdown",
   "metadata": {},
   "source": [
    "mplleaflet.display(fig=ax.figure)\n"
   ]
  },
  {
   "cell_type": "code",
   "execution_count": null,
   "metadata": {},
   "outputs": [],
   "source": [
    "1+2"
   ]
  }
 ],
 "metadata": {
  "kernelspec": {
   "display_name": "Python 3",
   "language": "python",
   "name": "python3"
  },
  "language_info": {
   "codemirror_mode": {
    "name": "ipython",
    "version": 3
   },
   "file_extension": ".py",
   "mimetype": "text/x-python",
   "name": "python",
   "nbconvert_exporter": "python",
   "pygments_lexer": "ipython3",
   "version": "3.8.3"
  }
 },
 "nbformat": 4,
 "nbformat_minor": 5
}
