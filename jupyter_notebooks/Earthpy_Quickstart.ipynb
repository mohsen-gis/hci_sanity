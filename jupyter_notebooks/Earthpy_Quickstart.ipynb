{
 "cells": [
  {
   "cell_type": "markdown",
   "id": "ae60769e",
   "metadata": {},
   "source": [
    "\n",
    "# Download Data with EarthPy\n",
    "\n",
    "Learn how to download data subsets available in EarthPy and other\n",
    "data accessible via URLs using EarthPy.\n"
   ]
  },
  {
   "cell_type": "markdown",
   "id": "23e4aed3",
   "metadata": {},
   "source": [
    "##### Reference: https://earthpy.readthedocs.io/en/latest/gallery_vignettes/get_data.html"
   ]
  },
  {
   "cell_type": "markdown",
   "id": "fd1b386d",
   "metadata": {},
   "source": [
    "## Download Data Using EarthPy\n",
    "\n",
    "<div class=\"alert alert-info\"><h4>Note</h4><p>The example below will show you how to use the ``data.get_data()``\n",
    "   function to download data from URLs and EarthPy data subsets.</p></div>\n",
    "\n",
    "The example below walks you through a typical workflow for downloading\n",
    "data using EarthPy. You can use ``data.get_data()`` to download data\n",
    "subsets available in EarthPy using a key name for the desired data\n",
    "subset. The descriptions of available data keys can be found\n",
    "in the documentation on\n",
    "`EarthPy data keys <https://earthpy.readthedocs.io/en/latest/earthpy-data-subsets.html>`_.\n",
    "\n",
    "In addition, you can use ``data.get_data()`` to download data from a URL.\n",
    "The URL can host a single file (e.g. .csv) or a compressed .zip file,\n",
    "which will be extracted as a directory with the same name.\n",
    "\n",
    "By default, the function ``data.get_data()`` will download data to a\n",
    "subdirectory called earth-analytics in the user's home directory. If the\n",
    "earth-analytics directory does not already exist, the function will create it.\n",
    "\n"
   ]
  },
  {
   "cell_type": "markdown",
   "id": "0b8b70a6",
   "metadata": {},
   "source": [
    "## Import Packages\n",
    "\n",
    "To begin, import the needed packages.\n",
    "\n"
   ]
  },
  {
   "cell_type": "code",
   "execution_count": 1,
   "id": "f5f7bfc0",
   "metadata": {},
   "outputs": [],
   "source": [
    "import os\n",
    "import earthpy as et"
   ]
  },
  {
   "cell_type": "markdown",
   "id": "ec7530ca",
   "metadata": {},
   "source": [
    "## View List of EarthPy Data Subsets\n",
    "\n",
    "You can view a list of available data subsets in EarthPy by calling the\n",
    "function ``data.get_data()`` with no parameters.\n",
    "\n",
    "To see descriptions of these data subsets, you can review the documentation on\n",
    "`EarthPy data keys <https://earthpy.readthedocs.io/en/latest/earthpy-data-subsets.html>`_.\n",
    "\n"
   ]
  },
  {
   "cell_type": "code",
   "execution_count": 2,
   "id": "d8d3a6fc",
   "metadata": {},
   "outputs": [],
   "source": [
    "et.data.get_data()"
   ]
  },
  {
   "cell_type": "markdown",
   "id": "1ea079da",
   "metadata": {},
   "source": [
    "## Download EarthPy Data Subsets\n",
    "\n",
    "Once you have identified which data subset you want to download, you can provide\n",
    "the data key (e.g. vignette-elevation) as a parameter to the ``data.get_data()``\n",
    "function.\n",
    "\n",
    "By default, data downloaded using an EarthPy data key will be\n",
    "saved to a data subdirectory in the earth-analytics directory\n",
    "(e.g. earth-analytics/data/).\n",
    "\n"
   ]
  },
  {
   "cell_type": "code",
   "execution_count": 3,
   "id": "1e777c57",
   "metadata": {},
   "outputs": [],
   "source": [
    "data = et.data.get_data(\"vignette-elevation\")\n",
    "\n",
    "# You can now define the path to the downloaded data\n",
    "# os.chdir(os.path.join(et.io.HOME, \"earth-analytics\"))\n",
    "\n",
    "raster_path = \"pre_DTM.tif\""
   ]
  },
  {
   "cell_type": "markdown",
   "id": "c390afe7",
   "metadata": {},
   "source": [
    "## Download Data From URLs\n",
    "\n",
    "If you have the URL to a single file (e.g. .csv) or a compressed .zip file,\n",
    "you can provide the URL as a parameter value called ``url`` to the\n",
    "``data.get_data()`` function.\n",
    "\n",
    "By default, data downloaded from a URL will be\n",
    "saved to a subdirectory called earthpy-downloads under the data directory\n",
    "(e.g. earth-analytics/data/earthpy-downloads/).\n",
    "\n"
   ]
  },
  {
   "cell_type": "code",
   "execution_count": 4,
   "id": "df73811a",
   "metadata": {},
   "outputs": [],
   "source": [
    "# Example download of a file called monthly-precip-2002-2013.csv\n",
    "url = \"https://ndownloader.figshare.com/files/12707792\"\n",
    "data = et.data.get_data(url=url)\n",
    "\n",
    "# os.chdir(os.path.join(et.io.HOME, \"earth-analytics\"))\n",
    "\n",
    "csv_path = \"monthly-precip-2002-2013.csv\"\n",
    "\n",
    "# Example download of a compressed .zip file called boulder_county.zip\n",
    "# which contains a shapefile (.shp) of the Boulder County, CO boundary\n",
    "url = \"https://ndownloader.figshare.com/files/14535518\"\n",
    "data = et.data.get_data(url=url)\n",
    "\n",
    "# os.chdir(os.path.join(et.io.HOME, \"earth-analytics\"))\n",
    "\n",
    "vector_path = \"boulder_county.shp\""
   ]
  },
  {
   "cell_type": "markdown",
   "id": "810c719d",
   "metadata": {},
   "source": [
    "## Replace Previously Downloaded Data\n",
    "\n",
    "If the data already exist in a directory, the default action of ``data.get_data()``\n",
    "function is to not replace the existing data with the new download. If you want\n",
    "to replace the file, you can add the parameter ``replace`` and set it\n",
    "equal to True.\n",
    "\n"
   ]
  },
  {
   "cell_type": "code",
   "execution_count": 5,
   "id": "ff9021a4",
   "metadata": {},
   "outputs": [],
   "source": [
    "url = \"https://ndownloader.figshare.com/files/12707792\"\n",
    "data = et.data.get_data(url=url, replace=True)"
   ]
  },
  {
   "cell_type": "code",
   "execution_count": 6,
   "id": "dbb2b851",
   "metadata": {},
   "outputs": [],
   "source": [
    "{\"kernelspec\": {\n",
    "    \"name\": \"python3\",\n",
    "    \"display_name\": \"Python 3\",\n",
    "    \"language\": \"python\"\n",
    "  },\n",
    "  \"language_info\": {\n",
    "    \"name\": \"python\",\n",
    "    \"version\": \"3.8.1\",\n",
    "    \"mimetype\": \"text/x-python\",\n",
    "    \"codemirror_mode\": {\n",
    "      \"name\": \"ipython\",\n",
    "      \"version\": 3\n",
    "    }}}"
   ]
  }
 ],
 "metadata": {
  "kernelspec": {
   "display_name": "Python 3",
   "language": "python",
   "name": "python3"
  },
  "language_info": {
   "codemirror_mode": {
    "name": "ipython",
    "version": 3
   },
   "file_extension": ".py",
   "mimetype": "text/x-python",
   "name": "python",
   "nbconvert_exporter": "python",
   "pygments_lexer": "ipython3",
   "version": "3.8.1"
  }
 },
 "nbformat": 4,
 "nbformat_minor": 5
}
