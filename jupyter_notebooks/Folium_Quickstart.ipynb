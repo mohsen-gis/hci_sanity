{
 "cells": [
  {
   "cell_type": "markdown",
   "id": "d1e26f6f",
   "metadata": {},
   "source": [
    "## Folium Quickstart"
   ]
  },
  {
   "cell_type": "markdown",
   "id": "c3e30eb8",
   "metadata": {},
   "source": [
    "This is a notebook to test the basic functionality in the environment for the Python Package <b>Folium</b>. For more quickstart materials, see [here](https://python-visualization.github.io/folium/)."
   ]
  },
  {
   "cell_type": "code",
   "execution_count": 1,
   "id": "a96fb91d",
   "metadata": {},
   "outputs": [],
   "source": [
    "import folium\n",
    "import geopandas as gpd"
   ]
  },
  {
   "cell_type": "code",
   "execution_count": 2,
   "id": "3d25f7bd",
   "metadata": {},
   "outputs": [],
   "source": [
    "samplepoints = folium.GeoJson('../Data/samplepoints.json')\n",
    "m = folium.Map(location = [45.01594481203401, -93.276039169286], tiles='OpenStreetMap' , zoom_start = 8) # tiles=\"Stamen Toner\"\n",
    "\n",
    "samplepoints.add_to(m)\n",
    "m"
   ]
  },
  {
   "cell_type": "code",
   "execution_count": 3,
   "id": "a8b2956c",
   "metadata": {},
   "outputs": [],
   "source": [
    "samplefile = gpd.read_file('../Data/snowmobile_trails_mn.shp').to_crs(epsg='4326')\n",
    "\n",
    "m = folium.Map(location = [45.01594481203401, -93.276039169286], tiles='OpenStreetMap' , zoom_start = 6) # tiles=\"Stamen Toner\"\n",
    "\n",
    "\n",
    "for _, r in samplefile.iloc[0:3,:].iterrows():\n",
    "    sim_geo = gpd.GeoSeries(r['geometry']) \n",
    "    geo_j = sim_geo.to_json()\n",
    "    geo_j = folium.GeoJson(data=geo_j, \n",
    "                           style_function = lambda x: {'color': 'blue', 'weight': 3, 'fill' : False })\n",
    "    geo_j.add_to(m)\n",
    "    \n",
    "m\n"
   ]
  }
 ],
 "metadata": {
  "kernelspec": {
   "display_name": "Python 3",
   "language": "python",
   "name": "python3"
  },
  "language_info": {
   "codemirror_mode": {
    "name": "ipython",
    "version": 3
   },
   "file_extension": ".py",
   "mimetype": "text/x-python",
   "name": "python",
   "nbconvert_exporter": "python",
   "pygments_lexer": "ipython3",
   "version": "3.8.1"
  }
 },
 "nbformat": 4,
 "nbformat_minor": 5
}
