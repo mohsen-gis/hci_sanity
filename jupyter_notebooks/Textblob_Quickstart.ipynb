{
 "cells": [
  {
   "cell_type": "markdown",
   "id": "def6110a",
   "metadata": {},
   "source": [
    "## Textblob Quickstart"
   ]
  },
  {
   "cell_type": "markdown",
   "id": "6362dd6a",
   "metadata": {},
   "source": [
    "This is a notebook to test the basic functionality in the environment for the Python Package <b>textblob</b>. For more quickstart materials, see [here](https://textblob.readthedocs.io/en/dev/quickstart.html)."
   ]
  },
  {
   "cell_type": "code",
   "execution_count": 1,
   "id": "33fb45b8",
   "metadata": {},
   "outputs": [],
   "source": [
    "from textblob import TextBlob\n",
    "import nltk\n",
    "nltk.download('punkt')\n",
    "nltk.data.load('tokenizers/punkt/english.pickle')\n",
    "nltk.download('averaged_perceptron_tagger')"
   ]
  },
  {
   "cell_type": "code",
   "execution_count": 2,
   "id": "8bab548d",
   "metadata": {},
   "outputs": [],
   "source": [
    "wiki = TextBlob(\"Python is a high-level, general-purpose programming language.\")\n"
   ]
  },
  {
   "cell_type": "code",
   "execution_count": 3,
   "id": "2e5564e8",
   "metadata": {},
   "outputs": [],
   "source": [
    "wiki.tags"
   ]
  },
  {
   "cell_type": "code",
   "execution_count": 4,
   "id": "8d142139",
   "metadata": {},
   "outputs": [],
   "source": [
    "\n",
    "tblob = TextBlob(str(wiki))\n",
    "tblob"
   ]
  },
  {
   "cell_type": "code",
   "execution_count": 5,
   "id": "fe6dc7fb",
   "metadata": {},
   "outputs": [],
   "source": [
    "words = tblob.words\n",
    "words\n"
   ]
  }
 ],
 "metadata": {
  "kernelspec": {
   "display_name": "Python 3",
   "language": "python",
   "name": "python3"
  },
  "language_info": {
   "codemirror_mode": {
    "name": "ipython",
    "version": 3
   },
   "file_extension": ".py",
   "mimetype": "text/x-python",
   "name": "python",
   "nbconvert_exporter": "python",
   "pygments_lexer": "ipython3",
   "version": "3.8.1"
  }
 },
 "nbformat": 4,
 "nbformat_minor": 5
}
