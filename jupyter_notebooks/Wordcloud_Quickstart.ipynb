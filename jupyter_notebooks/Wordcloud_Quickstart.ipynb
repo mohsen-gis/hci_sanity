{
 "cells": [
  {
   "cell_type": "markdown",
   "id": "de73e05c",
   "metadata": {},
   "source": [
    "## Wordcloud Quickstart"
   ]
  },
  {
   "cell_type": "markdown",
   "id": "c2591e06",
   "metadata": {},
   "source": [
    "This is a notebook to test the basic functionality in the environment for the Python Package <b>wordcloud</b>. For more quickstart materials, see [here](https://amueller.github.io/word_cloud/)."
   ]
  },
  {
   "cell_type": "code",
   "execution_count": 1,
   "id": "163d3d28",
   "metadata": {},
   "outputs": [],
   "source": [
    "from wordcloud import WordCloud\n",
    "import matplotlib.pyplot as plt"
   ]
  },
  {
   "cell_type": "code",
   "execution_count": 2,
   "id": "dc8a4eb0",
   "metadata": {},
   "outputs": [],
   "source": [
    "text=(\"Python Python Python Matplotlib this is a sample text for a python module named wordcloud\")\n",
    "\n",
    "# Create the wordcloud object\n",
    "wordcloud = WordCloud(width=480, height=480, margin=0).generate(text)\n",
    "\n",
    "# Display the generated image:\n",
    "plt.imshow(wordcloud, interpolation='bilinear')\n",
    "plt.axis(\"off\")\n",
    "plt.margins(x=0, y=0)\n",
    "plt.show()"
   ]
  }
 ],
 "metadata": {
  "kernelspec": {
   "display_name": "Python 3",
   "language": "python",
   "name": "python3"
  },
  "language_info": {
   "codemirror_mode": {
    "name": "ipython",
    "version": 3
   },
   "file_extension": ".py",
   "mimetype": "text/x-python",
   "name": "python",
   "nbconvert_exporter": "python",
   "pygments_lexer": "ipython3",
   "version": "3.8.1"
  }
 },
 "nbformat": 4,
 "nbformat_minor": 5
}
