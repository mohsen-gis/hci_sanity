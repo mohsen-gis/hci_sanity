{
 "cells": [
  {
   "cell_type": "markdown",
   "id": "2bb56161",
   "metadata": {},
   "source": [
    "## Mapclassify Quickstart"
   ]
  },
  {
   "cell_type": "markdown",
   "id": "5dde3362",
   "metadata": {},
   "source": [
    "This is a notebook to test the basic functionality in the environment for the Python Package <b>mapclassify</b>. For more quickstart materials, see [here](https://github.com/pysal/mapclassify)."
   ]
  },
  {
   "cell_type": "code",
   "execution_count": 1,
   "id": "d84b39c1",
   "metadata": {},
   "outputs": [],
   "source": [
    "import mapclassify\n",
    "import numpy as np"
   ]
  },
  {
   "cell_type": "code",
   "execution_count": 2,
   "id": "1198b82a",
   "metadata": {},
   "outputs": [],
   "source": [
    "y = mapclassify.load_example()\n",
    "mapclassify.BoxPlot(y)\n",
    "mapclassify.EqualInterval(y)\n"
   ]
  },
  {
   "cell_type": "code",
   "execution_count": 3,
   "id": "3ae55d5a",
   "metadata": {},
   "outputs": [],
   "source": [
    "#FisherJenks  \n",
    "np.random.seed(123456)\n",
    "mapclassify.FisherJenks(y, k=5)\n"
   ]
  },
  {
   "cell_type": "code",
   "execution_count": 4,
   "id": "a9c0fb64",
   "metadata": {},
   "outputs": [],
   "source": [
    "mapclassify.HeadTailBreaks(y)\n",
    "mapclassify.JenksCaspallSampled(y, k=5)\n",
    "mapclassify.MaxP(y)\n",
    "mapclassify.NaturalBreaks(y, k=5)\n",
    "mapclassify.Quantiles(y, k=5)\n"
   ]
  },
  {
   "cell_type": "code",
   "execution_count": 5,
   "id": "7ba898c5",
   "metadata": {},
   "outputs": [],
   "source": [
    "bp = mapclassify.BoxPlot(y)\n",
    "bp.bins\n",
    "bp.counts\n",
    "bp.yb\n"
   ]
  }
 ],
 "metadata": {
  "kernelspec": {
   "display_name": "Python 3",
   "language": "python",
   "name": "python3"
  },
  "language_info": {
   "codemirror_mode": {
    "name": "ipython",
    "version": 3
   },
   "file_extension": ".py",
   "mimetype": "text/x-python",
   "name": "python",
   "nbconvert_exporter": "python",
   "pygments_lexer": "ipython3",
   "version": "3.8.1"
  }
 },
 "nbformat": 4,
 "nbformat_minor": 5
}
