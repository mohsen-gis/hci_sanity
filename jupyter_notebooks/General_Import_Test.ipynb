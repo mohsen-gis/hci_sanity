{
 "cells": [
  {
   "cell_type": "code",
   "execution_count": 1,
   "id": "c079abde",
   "metadata": {},
   "outputs": [],
   "source": [
    "import warnings\n",
    "warnings.filterwarnings('ignore') \n",
    "\n",
    "import gdal\n",
    "import fiona\n",
    "import folium\n",
    "import mapclassify\n",
    "import numpy as np\n",
    "import matplotlib.pyplot as plt\n",
    "from matplotlib_scalebar.scalebar import ScaleBar\n",
    "import osmnx as ox \n",
    "import mplleaflet\n",
    "\n",
    "import utm\n",
    "from osgeo import gdal\n",
    "from osgeo import gdal_array\n",
    "import ipyleaflet\n",
    "import geopandas\n",
    "\n",
    "from PIL import Image\n",
    "from PIL import ImageFont\n",
    "from PIL import ImageDraw\n",
    "from ipywidgets import interact\n",
    "from IPython.html.widgets import interact\n",
    "\n",
    "import pysal as ps\n",
    "import pysal.explore as pse\n",
    "import pysal.lib as plib\n",
    "\n",
    "from scipy.linalg import inv\n",
    "import spreg\n",
    "\n",
    "\n",
    "import rasterio\n",
    "from rasterio import plot\n",
    "from rasterio.plot import show_hist\n",
    "import os.path\n",
    "\n",
    "from shapely.geometry import Point, Polygon, LineString, mapping, shape\n",
    "from shapely.wkt import dumps, loads\n",
    "import json\n",
    "\n",
    "from wordcloud import WordCloud\n",
    "from textblob import TextBlob\n",
    "import nltk\n",
    "\n",
    "import earthpy\n"
   ]
  }
 ],
 "metadata": {
  "kernelspec": {
   "display_name": "Python 3",
   "language": "python",
   "name": "python3"
  },
  "language_info": {
   "codemirror_mode": {
    "name": "ipython",
    "version": 3
   },
   "file_extension": ".py",
   "mimetype": "text/x-python",
   "name": "python",
   "nbconvert_exporter": "python",
   "pygments_lexer": "ipython3",
   "version": "3.8.1"
  }
 },
 "nbformat": 4,
 "nbformat_minor": 5
}
