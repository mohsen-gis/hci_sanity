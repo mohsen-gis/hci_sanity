{
 "cells": [
  {
   "cell_type": "markdown",
   "id": "f1723fa6",
   "metadata": {},
   "source": [
    "## Osmnx Quickstart"
   ]
  },
  {
   "cell_type": "markdown",
   "id": "b859575c",
   "metadata": {},
   "source": [
    "This is a notebook to test the basic functionality in the environment for the Python Package <b>osmnx</b>. For more quickstart materials, see [here](https://osmnx.readthedocs.io/en/stable/)."
   ]
  },
  {
   "cell_type": "code",
   "execution_count": 1,
   "id": "7a517455",
   "metadata": {},
   "outputs": [],
   "source": [
    "import osmnx as ox \n"
   ]
  },
  {
   "cell_type": "code",
   "execution_count": 2,
   "id": "8b273fb4",
   "metadata": {},
   "outputs": [],
   "source": [
    "place = \"Piedmont, California, USA\"\n",
    "tags = {'building':['apartments']}\n",
    "buildings = ox.geometries_from_place(place, tags)\n",
    "buildings = buildings.to_crs('epsg:32615')\n",
    "\n",
    "# buildings"
   ]
  },
  {
   "cell_type": "code",
   "execution_count": 3,
   "id": "90f543de",
   "metadata": {},
   "outputs": [],
   "source": [
    "# download/model a street network for some city then visualize it\n",
    "G = ox.graph_from_place(\"Piedmont, California, USA\", network_type=\"drive\")\n",
    "fig, ax = ox.plot_graph(G)\n"
   ]
  },
  {
   "cell_type": "code",
   "execution_count": 4,
   "id": "7925e561",
   "metadata": {},
   "outputs": [],
   "source": [
    "# convert your MultiDiGraph to an undirected MultiGraph\n",
    "M = ox.utils_graph.get_undirected(G)\n",
    "\n",
    "# convert your MultiDiGraph to a DiGraph without parallel edges\n",
    "D = ox.utils_graph.get_digraph(G)"
   ]
  },
  {
   "cell_type": "code",
   "execution_count": 5,
   "id": "9d024107",
   "metadata": {},
   "outputs": [],
   "source": [
    "# you can convert your graph to node and edge GeoPandas GeoDataFrames\n",
    "gdf_nodes, gdf_edges = ox.graph_to_gdfs(G)\n",
    "# gdf_nodes.head()\n",
    "# gdf_edges.head()"
   ]
  }
 ],
 "metadata": {
  "kernelspec": {
   "display_name": "Python 3",
   "language": "python",
   "name": "python3"
  },
  "language_info": {
   "codemirror_mode": {
    "name": "ipython",
    "version": 3
   },
   "file_extension": ".py",
   "mimetype": "text/x-python",
   "name": "python",
   "nbconvert_exporter": "python",
   "pygments_lexer": "ipython3",
   "version": "3.8.1"
  }
 },
 "nbformat": 4,
 "nbformat_minor": 5
}
