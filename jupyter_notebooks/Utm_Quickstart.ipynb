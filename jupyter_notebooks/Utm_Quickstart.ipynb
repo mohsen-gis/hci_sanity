{
 "cells": [
  {
   "cell_type": "markdown",
   "id": "8b5e82da",
   "metadata": {},
   "source": [
    "## UTM Quickstart"
   ]
  },
  {
   "cell_type": "markdown",
   "id": "bf7a3780",
   "metadata": {},
   "source": [
    "This is a notebook to test the basic functionality in the environment for the Python Package <b>utm</b>. For more quickstart materials, see [here](https://github.com/Turbo87/utm)."
   ]
  },
  {
   "cell_type": "code",
   "execution_count": 1,
   "id": "490f82f8",
   "metadata": {},
   "outputs": [],
   "source": [
    "import matplotlib.pyplot as plt\n",
    "import utm"
   ]
  },
  {
   "cell_type": "code",
   "execution_count": 2,
   "id": "d1197471",
   "metadata": {},
   "outputs": [],
   "source": [
    "mississipi = [[45.03826,-93.28277], \n",
    "[45.0346,-93.2838],\n",
    "[45.02717,-93.28013],\n",
    "[45.02216,-93.27776],\n",
    "[45.01207,-93.27404],\n",
    "[45.00332,-93.27409],\n",
    "[44.99841,-93.27555],\n",
    "[44.99295,-93.27349],\n",
    "[44.98961,-93.26774]]\n",
    "\n",
    "mississipi = [utm.from_latlon(mississipi[i][0], mississipi[i][1]) for i in range(len(mississipi))]\n",
    "mississipi = [[mississipi[i][0], mississipi[i][1]] for i in range(len(mississipi))]\n",
    "\n",
    "\n",
    "mississipi"
   ]
  },
  {
   "cell_type": "code",
   "execution_count": 3,
   "id": "3bd44d4b",
   "metadata": {},
   "outputs": [],
   "source": [
    "plt.scatter([x[0] for x in mississipi], [y[1] for y in mississipi])"
   ]
  }
 ],
 "metadata": {
  "kernelspec": {
   "display_name": "Python 3",
   "language": "python",
   "name": "python3"
  },
  "language_info": {
   "codemirror_mode": {
    "name": "ipython",
    "version": 3
   },
   "file_extension": ".py",
   "mimetype": "text/x-python",
   "name": "python",
   "nbconvert_exporter": "python",
   "pygments_lexer": "ipython3",
   "version": "3.8.1"
  }
 },
 "nbformat": 4,
 "nbformat_minor": 5
}
