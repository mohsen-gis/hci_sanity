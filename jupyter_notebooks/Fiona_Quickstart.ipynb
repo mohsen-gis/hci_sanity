{
 "cells": [
  {
   "cell_type": "markdown",
   "id": "06f2cc42",
   "metadata": {},
   "source": [
    "## Fiona Quickstart Test"
   ]
  },
  {
   "cell_type": "markdown",
   "id": "ccd459b5",
   "metadata": {},
   "source": [
    "This is a notebook to test the basic functionality in the environment for the Python Package <b>fiona</b>. For more quickstart materials, see [here](http://toblerity.org/fiona/manual.html)."
   ]
  },
  {
   "cell_type": "code",
   "execution_count": 1,
   "id": "82b0febb",
   "metadata": {},
   "outputs": [],
   "source": [
    "import fiona"
   ]
  },
  {
   "cell_type": "code",
   "execution_count": 2,
   "id": "7c103675",
   "metadata": {},
   "outputs": [],
   "source": [
    "shapefile = fiona.open('../Data/snowmobile_trails_mn.shp', driver = 'ESRI Shapefile')\n",
    "shapefile"
   ]
  },
  {
   "cell_type": "code",
   "execution_count": 3,
   "id": "865e28b0",
   "metadata": {},
   "outputs": [],
   "source": [
    "shapefile.bounds"
   ]
  },
  {
   "cell_type": "code",
   "execution_count": 4,
   "id": "6c666041",
   "metadata": {},
   "outputs": [],
   "source": [
    "len(shapefile)"
   ]
  },
  {
   "cell_type": "code",
   "execution_count": 5,
   "id": "d3194b81",
   "metadata": {},
   "outputs": [],
   "source": [
    "shapefile.crs"
   ]
  },
  {
   "cell_type": "code",
   "execution_count": 6,
   "id": "cfc810e7",
   "metadata": {},
   "outputs": [],
   "source": [
    "shapefile.schema"
   ]
  }
 ],
 "metadata": {
  "kernelspec": {
   "display_name": "Python 3",
   "language": "python",
   "name": "python3"
  },
  "language_info": {
   "codemirror_mode": {
    "name": "ipython",
    "version": 3
   },
   "file_extension": ".py",
   "mimetype": "text/x-python",
   "name": "python",
   "nbconvert_exporter": "python",
   "pygments_lexer": "ipython3",
   "version": "3.8.1"
  }
 },
 "nbformat": 4,
 "nbformat_minor": 5
}
