{
 "cells": [
  {
   "cell_type": "code",
   "execution_count": null,
   "id": "83fa9cf2",
   "metadata": {},
   "outputs": [],
   "source": [
    "%run General_Import_Test.ipynb"
   ]
  },
  {
   "cell_type": "code",
   "execution_count": null,
   "id": "9a165e5e",
   "metadata": {},
   "outputs": [],
   "source": [
    "%run Earthpy_Quickstart.ipynb"
   ]
  },
  {
   "cell_type": "code",
   "execution_count": null,
   "id": "fdd01b82",
   "metadata": {},
   "outputs": [],
   "source": [
    "%run Fiona_Quickstart.ipynb"
   ]
  },
  {
   "cell_type": "code",
   "execution_count": null,
   "id": "2c74eb24",
   "metadata": {},
   "outputs": [],
   "source": [
    "%run Folium_Quickstart.ipynb"
   ]
  },
  {
   "cell_type": "code",
   "execution_count": null,
   "id": "b20202f5",
   "metadata": {},
   "outputs": [],
   "source": [
    "%run GDAL_Quickstart.ipynb"
   ]
  },
  {
   "cell_type": "code",
   "execution_count": null,
   "id": "1dc2d37b",
   "metadata": {},
   "outputs": [],
   "source": [
    "%run Geopandas_Quickstart.ipynb"
   ]
  },
  {
   "cell_type": "code",
   "execution_count": null,
   "id": "61f2554a",
   "metadata": {},
   "outputs": [],
   "source": [
    "%run Ipyleaflet_Quickstart.ipynb"
   ]
  },
  {
   "cell_type": "code",
   "execution_count": null,
   "id": "dc74900f",
   "metadata": {},
   "outputs": [],
   "source": [
    "%run Mapclassify_Quickstart.ipynb"
   ]
  },
  {
   "cell_type": "code",
   "execution_count": null,
   "id": "0e5fec81",
   "metadata": {},
   "outputs": [],
   "source": [
    "%run Mplleaflet_Quickstart.ipynb   # needs a revision - it's code cells are converted to Raw NBConvert for now"
   ]
  },
  {
   "cell_type": "code",
   "execution_count": null,
   "id": "1be1eb14",
   "metadata": {},
   "outputs": [],
   "source": [
    "%run Osmnx_Quickstart.ipynb"
   ]
  },
  {
   "cell_type": "code",
   "execution_count": null,
   "id": "0e7ab570",
   "metadata": {},
   "outputs": [],
   "source": [
    "%run Pillow_Quickstart.ipynb"
   ]
  },
  {
   "cell_type": "code",
   "execution_count": null,
   "id": "19913d35",
   "metadata": {},
   "outputs": [],
   "source": [
    "%run Pysal_Quickstart.ipynb"
   ]
  },
  {
   "cell_type": "code",
   "execution_count": null,
   "id": "bb7ce6e6",
   "metadata": {},
   "outputs": [],
   "source": [
    "%run Rasterio_Quickstart.ipynb"
   ]
  },
  {
   "cell_type": "code",
   "execution_count": null,
   "id": "749e468c",
   "metadata": {},
   "outputs": [],
   "source": [
    "%run Shapely_Quickstart.ipynb"
   ]
  },
  {
   "cell_type": "code",
   "execution_count": null,
   "id": "c64a89fd",
   "metadata": {},
   "outputs": [],
   "source": [
    "%run Textblob_Quickstart.ipynb"
   ]
  },
  {
   "cell_type": "code",
   "execution_count": null,
   "id": "d7b46703",
   "metadata": {},
   "outputs": [],
   "source": [
    "%run Utm_Quickstart.ipynb"
   ]
  },
  {
   "cell_type": "code",
   "execution_count": null,
   "id": "95055aa5",
   "metadata": {},
   "outputs": [],
   "source": [
    "%run Wordcloud_Quickstart.ipynb"
   ]
  }
 ],
 "metadata": {
  "kernelspec": {
   "display_name": "Python 3",
   "language": "python",
   "name": "python3"
  },
  "language_info": {
   "codemirror_mode": {
    "name": "ipython",
    "version": 3
   },
   "file_extension": ".py",
   "mimetype": "text/x-python",
   "name": "python",
   "nbconvert_exporter": "python",
   "pygments_lexer": "ipython3",
   "version": "3.8.1"
  }
 },
 "nbformat": 4,
 "nbformat_minor": 5
}
