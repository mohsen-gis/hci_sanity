{
 "cells": [
  {
   "cell_type": "markdown",
   "id": "582c9a08",
   "metadata": {},
   "source": [
    "## Ipyleaflet Quickstart"
   ]
  },
  {
   "cell_type": "markdown",
   "id": "18b2f993",
   "metadata": {},
   "source": [
    "This is a notebook to test the basic functionality in the environment for the Python Package <b>ipyleaflet</b>. For more quickstart materials, see [here](https://ipyleaflet.readthedocs.io/en/latest/api_reference/geodata.html)."
   ]
  },
  {
   "cell_type": "code",
   "execution_count": 1,
   "id": "4ec30924",
   "metadata": {},
   "outputs": [],
   "source": [
    "import ipyleaflet\n",
    "import geopandas"
   ]
  },
  {
   "cell_type": "code",
   "execution_count": 2,
   "id": "f0a81664",
   "metadata": {},
   "outputs": [],
   "source": [
    "!wget -O ../Data/ne_110m_admin_0_countries.zip https://www.naturalearthdata.com/http//www.naturalearthdata.com/download/110m/cultural/ne_110m_admin_0_countries.zip \n",
    "# !unzip -n ../Data/ne_110m_admin_0_countries.zip\n"
   ]
  },
  {
   "cell_type": "code",
   "execution_count": 3,
   "id": "0ce34ae6",
   "metadata": {},
   "outputs": [],
   "source": [
    "countries = geopandas.read_file(\"../data/ne_110m_admin_0_countries.zip\")\n",
    "m = ipyleaflet.Map(center=[48.8566, 2.3429], zoom=1)\n",
    "\n",
    "layer = ipyleaflet.GeoJSON(data=countries.__geo_interface__)\n",
    "m.add_layer(layer)\n",
    "m"
   ]
  },
  {
   "cell_type": "code",
   "execution_count": 4,
   "id": "1cbbcabc",
   "metadata": {},
   "outputs": [],
   "source": [
    "m = ipyleaflet.Map(center=[48.8566, 2.3429], zoom=1)\n",
    "geo_data = ipyleaflet.GeoData(\n",
    "    geo_dataframe = countries,\n",
    "    style={'color': 'black', 'fillColor': '#3366cc', 'opacity':0.05, 'weight':1.9, 'dashArray':'2', 'fillOpacity':0.6},\n",
    "    hover_style={'fillColor': 'red' , 'fillOpacity': 0.2},\n",
    "    name = 'Countries')\n",
    "m.add_layer(geo_data)\n",
    "m\n"
   ]
  }
 ],
 "metadata": {
  "kernelspec": {
   "display_name": "Python 3",
   "language": "python",
   "name": "python3"
  },
  "language_info": {
   "codemirror_mode": {
    "name": "ipython",
    "version": 3
   },
   "file_extension": ".py",
   "mimetype": "text/x-python",
   "name": "python",
   "nbconvert_exporter": "python",
   "pygments_lexer": "ipython3",
   "version": "3.8.1"
  }
 },
 "nbformat": 4,
 "nbformat_minor": 5
}
