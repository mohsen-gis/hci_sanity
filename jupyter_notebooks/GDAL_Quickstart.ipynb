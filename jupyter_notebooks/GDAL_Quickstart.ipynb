{
 "cells": [
  {
   "cell_type": "markdown",
   "id": "06bbc67d",
   "metadata": {},
   "source": [
    "\n",
    "# Calculating NDVI Using GDAL for Spatial Data Science Research"
   ]
  },
  {
   "cell_type": "markdown",
   "id": "51bcacc7",
   "metadata": {},
   "source": [
    "This is a notebook to test the basic functionality in the environment for the Python Package <b>GDAL</b>. For more quickstart materials, see [here](https://gdal.org/tutorials/index.html)."
   ]
  },
  {
   "cell_type": "code",
   "execution_count": 1,
   "id": "04600edf",
   "metadata": {},
   "outputs": [],
   "source": [
    "# Import the \"gdal\" and \"gdal_array\" submodules from within the \"osgeo\" module\n",
    "from osgeo import gdal\n",
    "from osgeo import gdal_array\n",
    "import numpy as np\n"
   ]
  },
  {
   "cell_type": "code",
   "execution_count": 2,
   "id": "b2e13d6e",
   "metadata": {},
   "outputs": [],
   "source": [
    "# Open a GDAL dataset\n",
    "dataset = gdal.Open('../Data/sma2_river.tif', gdal.GA_ReadOnly)\n",
    "print(dataset)"
   ]
  },
  {
   "cell_type": "code",
   "execution_count": 3,
   "id": "834cd3dc",
   "metadata": {},
   "outputs": [],
   "source": [
    "# Allocate our array using the first band's datatype\n",
    "image_datatype = dataset.GetRasterBand(1).DataType\n",
    "\n",
    "image = np.zeros((dataset.RasterYSize, dataset.RasterXSize, dataset.RasterCount),\n",
    "                 dtype=gdal_array.GDALTypeCodeToNumericTypeCode(image_datatype))\n",
    "\n",
    "# Loop over all bands in dataset\n",
    "for b in range(dataset.RasterCount):\n",
    "    # Remember, GDAL index is on 1, but Python is on 0 -- so we add 1 for our GDAL calls\n",
    "    band = dataset.GetRasterBand(b + 1)\n",
    "    print(band)\n",
    "    # Read in the band's data into the third dimension of our array\n",
    "    image[:, :, b] = band.ReadAsArray()\n",
    "    \n",
    "\n",
    "print('Red band mean: {r}'.format(r=image[:, :, 0].mean()))\n",
    "print('NIR band mean: {nir}'.format(nir=image[:, :, 3].mean()))"
   ]
  },
  {
   "cell_type": "code",
   "execution_count": 4,
   "id": "c95de168",
   "metadata": {},
   "outputs": [],
   "source": [
    "b_red = 0\n",
    "b_nir = 0\n",
    "\n",
    "ndvi = (image[:, :, b_nir] - image[:, :, b_red]) / (image[:, :, b_red] + image[:, :, b_nir])\n",
    "\n",
    "print(ndvi)\n",
    "print(ndvi.max())"
   ]
  },
  {
   "cell_type": "code",
   "execution_count": null,
   "id": "24dde8a0",
   "metadata": {},
   "outputs": [],
   "source": []
  }
 ],
 "metadata": {
  "kernelspec": {
   "display_name": "Python 3",
   "language": "python",
   "name": "python3"
  },
  "language_info": {
   "codemirror_mode": {
    "name": "ipython",
    "version": 3
   },
   "file_extension": ".py",
   "mimetype": "text/x-python",
   "name": "python",
   "nbconvert_exporter": "python",
   "pygments_lexer": "ipython3",
   "version": "3.8.1"
  }
 },
 "nbformat": 4,
 "nbformat_minor": 5
}
