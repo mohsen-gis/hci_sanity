{
 "cells": [
  {
   "cell_type": "code",
   "execution_count": null,
   "metadata": {},
   "outputs": [],
   "source": [
    "import papermill as pm\n",
    "import os"
   ]
  },
  {
   "cell_type": "code",
   "execution_count": null,
   "metadata": {},
   "outputs": [],
   "source": [
    "# Collect a list of all notebooks in the content folder\n",
    "all_notebooks = [file for file in os.listdir() if file.endswith(\".ipynb\")]\n",
    "all_notebooks.remove('RUN_ALL_papermill.ipynb')\n",
    "all_notebooks.remove('Runthem.ipynb')\n",
    "all_notebooks = sorted(all_notebooks)\n",
    "for nb in all_notebooks:\n",
    "    if nb != 'RUN_ALL_papermill.ipynb':\n",
    "        print(nb)\n",
    "        pm.execute_notebook(\n",
    "            input_path=nb,\n",
    "            output_path=nb  # Path to save executed notebook\n",
    "            , request_save_on_cell_execute=False,\n",
    "            log_output=False\n",
    "        )\n",
    "\n",
    "print('***All notebooks were run successfully!***')"
   ]
  },
  {
   "cell_type": "markdown",
   "metadata": {},
   "source": [
    "### Cleaning notebook cell's metadata (Papermill log info cleaning when its run on a local machine)"
   ]
  },
  {
   "cell_type": "code",
   "execution_count": null,
   "metadata": {},
   "outputs": [],
   "source": [
    "# Cleaning all the papermill log information that are saved to the cells' metadata\n",
    "import nbformat as nbf\n",
    "all_notebooks = [file for file in os.listdir() if file.endswith(\".ipynb\")]\n",
    "all_notebooks.remove('RUN_ALL_papermill.ipynb')\n",
    "all_notebooks.remove('Runthem.ipynb')\n",
    "all_notebooks = sorted(all_notebooks)\n",
    "nb_meta = {\"kernelspec\": {\n",
    "    \"name\": \"python3\",\n",
    "    \"display_name\": \"Python 3\",\n",
    "    \"language\": \"python\"\n",
    "  },\n",
    "  \"language_info\": {\n",
    "    \"name\": \"python\",\n",
    "    \"version\": \"3.8.1\",\n",
    "    \"mimetype\": \"text/x-python\",\n",
    "    \"codemirror_mode\": {\n",
    "      \"name\": \"ipython\",\n",
    "      \"version\": 3\n",
    "    },\n",
    "    \"pygments_lexer\": \"ipython3\",\n",
    "    \"nbconvert_exporter\": \"python\",\n",
    "    \"file_extension\": \".py\"\n",
    "  }}\n",
    "\n",
    "for ipath in all_notebooks:\n",
    "    ntbk = nbf.read(ipath, nbf.NO_CONVERT)\n",
    "    ntbk['metadata'] = nb_meta\n",
    "    for i in range(len(ntbk['cells'])):\n",
    "        ntbk['cells'][i]['metadata'] = {}\n",
    "        if ntbk['cells'][i]['cell_type'] == 'code':\n",
    "            ntbk['cells'][i]['outputs'] = []\n",
    "        \n",
    "    nbf.write(ntbk, ipath)\n",
    "    \n",
    "print('All cleaned!')"
   ]
  },
  {
   "cell_type": "markdown",
   "metadata": {},
   "source": [
    "!jupyter nbconvert --ClearOutputPreprocessor.enabled=True \\\n",
    "--ClearMetadataPreprocessor.enabled=True --clear-output *.ipynb"
   ]
  },
  {
   "cell_type": "markdown",
   "metadata": {},
   "source": [
    "!jupyter nbconvert --ClearOutputPreprocessor.enabled=True --clear-output *.ipynb"
   ]
  }
 ],
 "metadata": {
  "celltoolbar": "Edit Metadata",
  "kernelspec": {
   "display_name": "Python 3",
   "language": "python",
   "name": "python3"
  },
  "language_info": {
   "codemirror_mode": {
    "name": "ipython",
    "version": 3
   },
   "file_extension": ".py",
   "mimetype": "text/x-python",
   "name": "python",
   "nbconvert_exporter": "python",
   "pygments_lexer": "ipython3",
   "version": "3.8.1"
  }
 },
 "nbformat": 4,
 "nbformat_minor": 4
}
