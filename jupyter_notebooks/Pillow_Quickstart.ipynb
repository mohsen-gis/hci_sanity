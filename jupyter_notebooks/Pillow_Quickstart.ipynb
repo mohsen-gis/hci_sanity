{
 "cells": [
  {
   "cell_type": "markdown",
   "id": "5fe66127",
   "metadata": {},
   "source": [
    "## Pillow Quickstart"
   ]
  },
  {
   "cell_type": "markdown",
   "id": "4681a34d",
   "metadata": {},
   "source": [
    "This is a notebook to test the basic functionality in the environment for the Python Package <b>pillow</b>. For more quickstart materials, see [here](https://pillow.readthedocs.io/en/stable/handbook/tutorial.html)."
   ]
  },
  {
   "cell_type": "code",
   "execution_count": 1,
   "id": "13ca496b",
   "metadata": {},
   "outputs": [],
   "source": [
    "from PIL import Image\n",
    "from PIL import ImageFont\n",
    "from PIL import ImageDraw\n",
    "import numpy as np\n",
    "from ipywidgets import interact"
   ]
  },
  {
   "cell_type": "code",
   "execution_count": 2,
   "id": "c478e6de",
   "metadata": {},
   "outputs": [],
   "source": [
    "im = Image.open(\"../Data/LT05_L1TP_201030_20110930_20161005_01_T1_VER.jpg\")\n",
    "im2 = Image.open(\"../Data/sma2_river.tif\")"
   ]
  },
  {
   "cell_type": "code",
   "execution_count": 3,
   "id": "da5b985f",
   "metadata": {},
   "outputs": [],
   "source": [
    "im_np = np.array(im)\n",
    "im_np"
   ]
  },
  {
   "cell_type": "code",
   "execution_count": 4,
   "id": "0c97ebb4",
   "metadata": {},
   "outputs": [],
   "source": [
    "def merge(im1, im2):\n",
    "    w = im1.size[0] + im2.size[0]\n",
    "    h = max(im1.size[1], im2.size[1])\n",
    "    im = Image.new(\"RGBA\", (w, h))\n",
    "\n",
    "    im.paste(im1)\n",
    "    im.paste(im2, (im1.size[0], 0))\n",
    "\n",
    "    return im"
   ]
  },
  {
   "cell_type": "code",
   "execution_count": 5,
   "id": "f1966061",
   "metadata": {},
   "outputs": [],
   "source": [
    "merge(im, im2)"
   ]
  },
  {
   "cell_type": "code",
   "execution_count": 6,
   "id": "acb5e36d",
   "metadata": {},
   "outputs": [],
   "source": [
    "r, g, b = im.split()\n",
    "im = Image.merge(\"RGB\", (b, g, r))\n",
    "im"
   ]
  },
  {
   "cell_type": "code",
   "execution_count": 7,
   "id": "6d0610b7",
   "metadata": {},
   "outputs": [],
   "source": [
    "out = im.resize((128, 128))\n",
    "out = im.rotate(45) # degrees counter-clockwise\n",
    "# out"
   ]
  },
  {
   "cell_type": "code",
   "execution_count": 8,
   "id": "240d85d3",
   "metadata": {},
   "outputs": [],
   "source": [
    "\n",
    "\n",
    "def make_cert(learner_name, lesson_name):\n",
    "    cert_filename = 'hourofci_certificate.pdf'\n",
    "\n",
    "    img = Image.open(\"../Data/hci-certificate-template.jpg\")\n",
    "    draw = ImageDraw.Draw(img)\n",
    "\n",
    "    cert_font = ImageFont.load_default()\n",
    "    \n",
    "    cert_font   = ImageFont.truetype('../Data/cruft.ttf', 150)\n",
    "    cert_fontsm = ImageFont.truetype('../Data/cruft.ttf', 80) \n",
    "    w,h = cert_font.getsize(learner_name)    \n",
    "    draw.text( xy = (1650-w/2,1100-h/2), text = learner_name, fill=(0,0,0),font=cert_font)\n",
    "    w,h = cert_fontsm.getsize(lesson_name)\n",
    "    draw.text( xy = (1650-w/2,1100-h/2 + 750), text = lesson_name, fill=(0,0,0),font=cert_fontsm)\n",
    "    img.save(cert_filename, \"PDF\", resolution=100.0)  \n",
    "    \n",
    "    return cert_filename\n",
    "\n",
    "\n",
    "interact_cert=interact.options(manual=True, manual_name=\"Create Certificate\")\n",
    "\n",
    "@interact_cert(name=\"Your Name\")\n",
    "def f(name):\n",
    "    print(\"Congratulations\",name)\n",
    "    filename = make_cert(name, 'Beginner Interdisciplinary Communication')\n",
    "    print(\"Download your certificate by clicking the link below.\")\n",
    "f('name')  "
   ]
  }
 ],
 "metadata": {
  "kernelspec": {
   "display_name": "Python 3",
   "language": "python",
   "name": "python3"
  },
  "language_info": {
   "codemirror_mode": {
    "name": "ipython",
    "version": 3
   },
   "file_extension": ".py",
   "mimetype": "text/x-python",
   "name": "python",
   "nbconvert_exporter": "python",
   "pygments_lexer": "ipython3",
   "version": "3.8.1"
  }
 },
 "nbformat": 4,
 "nbformat_minor": 5
}
